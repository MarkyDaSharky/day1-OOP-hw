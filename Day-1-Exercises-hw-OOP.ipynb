{
 "cells": [
  {
   "cell_type": "markdown",
   "id": "0843f4b0",
   "metadata": {},
   "source": [
    "### Exercise 1 - Turn the shopping cart program into an object-oriented program"
   ]
  },
  {
   "cell_type": "code",
   "execution_count": 4,
   "id": "35dc8a08",
   "metadata": {},
   "outputs": [
    {
     "ename": "IndentationError",
     "evalue": "expected an indented block (Temp/ipykernel_12248/184674107.py, line 20)",
     "output_type": "error",
     "traceback": [
      "\u001b[1;36m  File \u001b[1;32m\"C:\\Users\\Mark\\AppData\\Local\\Temp/ipykernel_12248/184674107.py\"\u001b[1;36m, line \u001b[1;32m20\u001b[0m\n\u001b[1;33m    def show(self, show_cart):\u001b[0m\n\u001b[1;37m    ^\u001b[0m\n\u001b[1;31mIndentationError\u001b[0m\u001b[1;31m:\u001b[0m expected an indented block\n"
     ]
    }
   ],
   "source": [
    "# Create a class called cart that retains items and has methods to add, remove, and show\n",
    "\n",
    "class Cart():\n",
    "    \n",
    "    def __init__(self, cart = []):\n",
    "        self.cart = cart\n",
    "        \n",
    "        \n",
    "    def add(self, product):\n",
    "        self.product = product\n",
    "        self.cart.append(product)\n",
    "            \n",
    "        \n",
    "        \n",
    "    def remove(self, remove_item):\n",
    "        self.remove_item = remove_item\n",
    "        \n",
    "        \n",
    "        \n",
    "    def show(self, show_cart):\n",
    "        self.show_cart = show_cart\n",
    "        \n",
    "class Item:(self, item,quantity,cost):\n",
    "        self.item = item\n",
    "        self.quantity = quantity\n",
    "        self.cost = cost\n",
    "#NOT DONE"
   ]
  },
  {
   "cell_type": "code",
   "execution_count": null,
   "id": "b3f21718",
   "metadata": {},
   "outputs": [],
   "source": [
    "def main():\n",
    "    shoop_cart = Cart()\n",
    "    finish_message = \"Thank you for your purchase!\\n Here's your receipt:\"\n",
    "    while True:\n",
    "        Question = input('Would you like to add/show/remove/quit? ').lower()\n",
    "        if Question == 'quit':\n",
    "            break\n",
    "        elif Question == 'add':\n",
    "            item = input('What would you like to add? ')\n",
    "            quantity = int(input(f\"How many would you like to add? \"))\n",
    "            cost = float(input(f'How much does it cost? '))\n",
    "            item = Item(item, quantity, cost)\n",
    "            shoop_cart.add(item)\n",
    "        elif Question == 'show':\n",
    "            print('Current shopping cart')\n",
    "        elif Question == 'remove':\n",
    "            remove_item = input('Which item would you like to remove from your cart?').lower()\n",
    "            del shopping_cart[remove_item]\n",
    "        elif Question != 'quit':\n",
    "            print('Please enter a valid response')\n",
    "#NOT DONE :(\n",
    "    "
   ]
  },
  {
   "cell_type": "markdown",
   "id": "1cde1c43",
   "metadata": {},
   "source": [
    "### Exercise 2 - Write a Python class for an Animal that has a name and energy attributes. The animal class should also have methods for eat, sleep, and play that will take in an integer and increase/decrease the energy of the animal with a formatted print statement"
   ]
  },
  {
   "cell_type": "code",
   "execution_count": 2,
   "id": "fc6a5c87",
   "metadata": {},
   "outputs": [],
   "source": [
    "class Animal:\n",
    "    \n",
    "    \n",
    "    def __init__(self, animal_name, energy_level=100):\n",
    "        self.animal_name = animal_name\n",
    "        self.energy_level = energy_level\n",
    "        \n",
    "    def eat(self, food_consumed):\n",
    "        food_recover = 2*food_consumed\n",
    "        self.energy_level += food_recover\n",
    "        print(f'{self.animal_name} is having a feast! consuming {food_consumed} food. His energy is now {self.energy_level}')\n",
    "    \n",
    "    def play(self, playtime):\n",
    "        self.energy_level -= playtime\n",
    "        print(f'{self.animal_name} is playing around for {playtime} minutes. His energy is now {self.energy_level}')\n",
    "        \n",
    "        \n",
    "    def sleep(self, sleep_minutes):\n",
    "        energy_recover = 3*sleep_minutes\n",
    "        self.energy_level += energy_recover\n",
    "        print(f'{self.animal_name} is sleeping for {sleep_minutes} minutes. His energy is now {self.energy_level}')\n",
    "        "
   ]
  },
  {
   "cell_type": "code",
   "execution_count": 3,
   "id": "31d73460",
   "metadata": {},
   "outputs": [
    {
     "name": "stdout",
     "output_type": "stream",
     "text": [
      "Buddy is having a feast! consuming 3 food. His energy is now 16\n",
      "Buddy is playing around for 5 minutes. His energy is now 11\n",
      "Buddy is sleeping for 5 minutes. His energy is now 26\n",
      "Glory is having a feast! consuming 2 food. His energy is now 34\n",
      "Glory is playing around for 20 minutes. His energy is now 14\n",
      "Glory is sleeping for 10 minutes. His energy is now 44\n"
     ]
    }
   ],
   "source": [
    "buddy = Animal('Buddy', 10)\n",
    "glory = Animal('Glory', 30)\n",
    "buddy.eat(3)\n",
    "buddy.play(5)\n",
    "buddy.sleep(5)\n",
    "glory.eat(2)\n",
    "glory.play(20)\n",
    "glory.sleep(10)"
   ]
  }
 ],
 "metadata": {
  "kernelspec": {
   "display_name": "Python 3 (ipykernel)",
   "language": "python",
   "name": "python3"
  },
  "language_info": {
   "codemirror_mode": {
    "name": "ipython",
    "version": 3
   },
   "file_extension": ".py",
   "mimetype": "text/x-python",
   "name": "python",
   "nbconvert_exporter": "python",
   "pygments_lexer": "ipython3",
   "version": "3.9.7"
  }
 },
 "nbformat": 4,
 "nbformat_minor": 5
}
